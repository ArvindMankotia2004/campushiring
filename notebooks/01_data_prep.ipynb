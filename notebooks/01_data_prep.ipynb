{
  "nbformat": 4,
  "nbformat_minor": 0,
  "metadata": {
    "colab": {
      "provenance": []
    },
    "kernelspec": {
      "name": "python3",
      "display_name": "Python 3"
    },
    "language_info": {
      "name": "python"
    }
  },
  "cells": [
    {
      "cell_type": "code",
      "execution_count": 1,
      "metadata": {
        "id": "lFqcFCHAW-PV"
      },
      "outputs": [],
      "source": [
        "# Cell 1 — imports\n",
        "import os\n",
        "import json\n",
        "import shutil\n",
        "from pathlib import Path\n",
        "from sklearn.model_selection import train_test_split\n"
      ]
    },
    {
      "cell_type": "code",
      "source": [
        "# Cell 2 — config\n",
        "ROOT = Path(\"..\")  # if running from notebooks/ adjust accordingly\n",
        "RAW_DIR = ROOT / \"data\" / \"raw\"\n",
        "IMAGES_DIR = ROOT / \"data\" / \"images\"\n",
        "LABELS_DIR = ROOT / \"data\" / \"labels\"\n",
        "LABELLERR_EXPORT_DIR = ROOT / \"data\" / \"labellerr_export\"\n",
        "IMAGES_DIR.mkdir(parents=True, exist_ok=True)\n",
        "LABELS_DIR.mkdir(parents=True, exist_ok=True)\n"
      ],
      "metadata": {
        "id": "C7ch07tgXPNW"
      },
      "execution_count": 2,
      "outputs": []
    },
    {
      "cell_type": "code",
      "source": [
        "# Cell 3 — simple converter: COCO-like Labelerr -> YOLO format\n",
        "# Assumes labellerr_export contains json files per image or single coco.json.\n",
        "def convert_coco_to_yolo(coco_json_path, images_src_dir, yolo_labels_out_dir, classes=None):\n",
        "    with open(coco_json_path, \"r\") as f:\n",
        "        coco = json.load(f)\n",
        "    imgs = {img[\"id\"]: img for img in coco[\"images\"]}\n",
        "    anns = coco[\"annotations\"]\n",
        "    categories = {c[\"id\"]: c[\"name\"] for c in coco[\"categories\"]}\n",
        "    if classes is None:\n",
        "        classes = [categories[cid] for cid in sorted(categories.keys())]\n",
        "    class_to_idx = {name: idx for idx, name in enumerate(classes)}\n",
        "    yolo_labels_out_dir = Path(yolo_labels_out_dir)\n",
        "    yolo_labels_out_dir.mkdir(parents=True, exist_ok=True)\n",
        "\n",
        "    for ann in anns:\n",
        "        img = imgs[ann[\"image_id\"]]\n",
        "        img_w, img_h = img[\"width\"], img[\"height\"]\n",
        "        bbox = ann[\"bbox\"]  # [x,y,w,h] upper-left x,y\n",
        "        x, y, w, h = bbox\n",
        "        cx = x + w / 2\n",
        "        cy = y + h / 2\n",
        "        x_rel = cx / img_w\n",
        "        y_rel = cy / img_h\n",
        "        w_rel = w / img_w\n",
        "        h_rel = h / img_h\n",
        "        cat_name = categories[ann[\"category_id\"]]\n",
        "        cls = class_to_idx[cat_name]\n",
        "        # write label file per image\n",
        "        img_name = img[\"file_name\"]\n",
        "        name_noext = os.path.splitext(img_name)[0]\n",
        "        label_path = yolo_labels_out_dir / f\"{name_noext}.txt\"\n",
        "        with open(label_path, \"a\") as lf:\n",
        "            lf.write(f\"{cls} {x_rel:.6f} {y_rel:.6f} {w_rel:.6f} {h_rel:.6f}\\n\")\n"
      ],
      "metadata": {
        "id": "NR7K-z0sXQvu"
      },
      "execution_count": 3,
      "outputs": []
    },
    {
      "cell_type": "code",
      "source": [
        "# Cell 4 — example usage (adjust paths)\n",
        "coco_json = LABELLERR_EXPORT_DIR / \"coco_annotations.json\"\n",
        "convert_coco_to_yolo(coco_json, RAW_DIR / \"images\", LABELS_DIR)\n"
      ],
      "metadata": {
        "id": "Pw8EOjOZXVfR"
      },
      "execution_count": null,
      "outputs": []
    },
    {
      "cell_type": "code",
      "source": [
        "# Cell 5 — split train/val/test and write to data/ images/ and labels/\n",
        "import glob\n",
        "image_files = sorted(glob.glob(str(RAW_DIR / \"images\" / \"*.*\")))\n",
        "train, rest = train_test_split(image_files, test_size=0.3, random_state=42)\n",
        "val, test = train_test_split(rest, test_size=0.5, random_state=42)\n",
        "\n",
        "def symlink_or_copy(src_list, dest_img_dir, dest_label_dir):\n",
        "    os.makedirs(dest_img_dir, exist_ok=True)\n",
        "    os.makedirs(dest_label_dir, exist_ok=True)\n",
        "    for p in src_list:\n",
        "        src = Path(p)\n",
        "        dst_img = Path(dest_img_dir) / src.name\n",
        "        if not dst_img.exists():\n",
        "            shutil.copy(src, dst_img)  # copy safer for notebooks\n",
        "        label_src = LABELS_DIR / f\"{src.stem}.txt\"\n",
        "        if label_src.exists():\n",
        "            shutil.copy(label_src, Path(dest_label_dir) / label_src.name)\n",
        "\n",
        "symlink_or_copy(train, ROOT / \"data\" / \"images\" / \"train\", ROOT / \"data\" / \"labels\" / \"train\")\n",
        "symlink_or_copy(val,   ROOT / \"data\" / \"images\" / \"val\",   ROOT / \"data\" / \"labels\" / \"val\")\n",
        "symlink_or_copy(test,  ROOT / \"data\" / \"images\" / \"test\",  ROOT / \"data\" / \"labels\" / \"test\")\n"
      ],
      "metadata": {
        "id": "--XNK8lwXb-o"
      },
      "execution_count": null,
      "outputs": []
    }
  ]
}