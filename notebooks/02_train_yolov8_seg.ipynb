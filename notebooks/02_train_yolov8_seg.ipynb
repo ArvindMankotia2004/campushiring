{
  "nbformat": 4,
  "nbformat_minor": 0,
  "metadata": {
    "colab": {
      "provenance": []
    },
    "kernelspec": {
      "name": "python3",
      "display_name": "Python 3"
    },
    "language_info": {
      "name": "python"
    }
  },
  "cells": [
    {
      "cell_type": "code",
      "execution_count": 6,
      "metadata": {
        "id": "lFqcFCHAW-PV"
      },
      "outputs": [],
      "source": [
        "# Cell 1\n",
        "from ultralytics import YOLO\n",
        "import os\n",
        "from pathlib import Path\n",
        "ROOT = Path(\"..\")\n",
        "DATA = str(ROOT / \"data\" / \"data.yaml\")\n"
      ]
    },
    {
      "cell_type": "code",
      "source": [
        "# Cell 2 — choose model and train\n",
        "model = YOLO(\"yolov8s-seg.pt\")  # or yolov8n-seg, yolov8m-seg, or custom\n",
        "# Train\n",
        "model.train(data=DATA, epochs=50, imgsz=640, batch=8, name=\"campushire_yolov8_seg\")\n"
      ],
      "metadata": {
        "id": "C7ch07tgXPNW"
      },
      "execution_count": 2,
      "outputs": []
    }
  ]
}