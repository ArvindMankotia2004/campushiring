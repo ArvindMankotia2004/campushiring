{
  "cells": [
    {
      "cell_type": "code",
      "execution_count": null,
      "metadata": {
        "collapsed": true,
        "id": "6hHpcwb1jYNR"
      },
      "outputs": [],
      "source": [
        "!pip install ultralytics\n"
      ]
    },
    {
      "cell_type": "code",
      "execution_count": null,
      "metadata": {
        "colab": {
          "base_uri": "https://localhost:8080/"
        },
        "id": "gh2hsm3qjqTG",
        "outputId": "071dc263-9b79-407b-c084-d54634570d3c"
      },
      "outputs": [
        {
          "name": "stdout",
          "output_type": "stream",
          "text": [
            "Mounted at /content/drive\n"
          ]
        }
      ],
      "source": [
        "from google.colab import drive\n",
        "drive.mount('/content/drive')"
      ]
    },
    {
      "cell_type": "code",
      "execution_count": null,
      "metadata": {
        "colab": {
          "base_uri": "https://localhost:8080/"
        },
        "id": "7ou-5MQ-mROt",
        "outputId": "96b06966-9585-410e-dbb3-9830c5fd905e"
      },
      "outputs": [
        {
          "name": "stdout",
          "output_type": "stream",
          "text": [
            " campushiring  'Colab Notebooks'   Temp\n"
          ]
        }
      ],
      "source": [
        "!ls /content/drive/MyDrive\n"
      ]
    },
    {
      "cell_type": "code",
      "execution_count": null,
      "metadata": {
        "colab": {
          "base_uri": "https://localhost:8080/"
        },
        "id": "jXvQxc-omnZS",
        "outputId": "6c4db046-1bc4-42f0-eb1b-ccc6638e7de9"
      },
      "outputs": [
        {
          "name": "stdout",
          "output_type": "stream",
          "text": [
            "Requirement already satisfied: ultralytics in /usr/local/lib/python3.12/dist-packages (8.3.202)\n",
            "Requirement already satisfied: numpy>=1.23.0 in /usr/local/lib/python3.12/dist-packages (from ultralytics) (2.0.2)\n",
            "Requirement already satisfied: matplotlib>=3.3.0 in /usr/local/lib/python3.12/dist-packages (from ultralytics) (3.10.0)\n",
            "Requirement already satisfied: opencv-python>=4.6.0 in /usr/local/lib/python3.12/dist-packages (from ultralytics) (4.12.0.88)\n",
            "Requirement already satisfied: pillow>=7.1.2 in /usr/local/lib/python3.12/dist-packages (from ultralytics) (11.3.0)\n",
            "Requirement already satisfied: pyyaml>=5.3.1 in /usr/local/lib/python3.12/dist-packages (from ultralytics) (6.0.2)\n",
            "Requirement already satisfied: requests>=2.23.0 in /usr/local/lib/python3.12/dist-packages (from ultralytics) (2.32.4)\n",
            "Requirement already satisfied: scipy>=1.4.1 in /usr/local/lib/python3.12/dist-packages (from ultralytics) (1.16.1)\n",
            "Requirement already satisfied: torch>=1.8.0 in /usr/local/lib/python3.12/dist-packages (from ultralytics) (2.8.0+cu126)\n",
            "Requirement already satisfied: torchvision>=0.9.0 in /usr/local/lib/python3.12/dist-packages (from ultralytics) (0.23.0+cu126)\n",
            "Requirement already satisfied: psutil in /usr/local/lib/python3.12/dist-packages (from ultralytics) (5.9.5)\n",
            "Requirement already satisfied: polars in /usr/local/lib/python3.12/dist-packages (from ultralytics) (1.25.2)\n",
            "Requirement already satisfied: ultralytics-thop>=2.0.0 in /usr/local/lib/python3.12/dist-packages (from ultralytics) (2.0.17)\n",
            "Requirement already satisfied: contourpy>=1.0.1 in /usr/local/lib/python3.12/dist-packages (from matplotlib>=3.3.0->ultralytics) (1.3.3)\n",
            "Requirement already satisfied: cycler>=0.10 in /usr/local/lib/python3.12/dist-packages (from matplotlib>=3.3.0->ultralytics) (0.12.1)\n",
            "Requirement already satisfied: fonttools>=4.22.0 in /usr/local/lib/python3.12/dist-packages (from matplotlib>=3.3.0->ultralytics) (4.59.2)\n",
            "Requirement already satisfied: kiwisolver>=1.3.1 in /usr/local/lib/python3.12/dist-packages (from matplotlib>=3.3.0->ultralytics) (1.4.9)\n",
            "Requirement already satisfied: packaging>=20.0 in /usr/local/lib/python3.12/dist-packages (from matplotlib>=3.3.0->ultralytics) (25.0)\n",
            "Requirement already satisfied: pyparsing>=2.3.1 in /usr/local/lib/python3.12/dist-packages (from matplotlib>=3.3.0->ultralytics) (3.2.3)\n",
            "Requirement already satisfied: python-dateutil>=2.7 in /usr/local/lib/python3.12/dist-packages (from matplotlib>=3.3.0->ultralytics) (2.9.0.post0)\n",
            "Requirement already satisfied: charset_normalizer<4,>=2 in /usr/local/lib/python3.12/dist-packages (from requests>=2.23.0->ultralytics) (3.4.3)\n",
            "Requirement already satisfied: idna<4,>=2.5 in /usr/local/lib/python3.12/dist-packages (from requests>=2.23.0->ultralytics) (3.10)\n",
            "Requirement already satisfied: urllib3<3,>=1.21.1 in /usr/local/lib/python3.12/dist-packages (from requests>=2.23.0->ultralytics) (2.5.0)\n",
            "Requirement already satisfied: certifi>=2017.4.17 in /usr/local/lib/python3.12/dist-packages (from requests>=2.23.0->ultralytics) (2025.8.3)\n",
            "Requirement already satisfied: filelock in /usr/local/lib/python3.12/dist-packages (from torch>=1.8.0->ultralytics) (3.19.1)\n",
            "Requirement already satisfied: typing-extensions>=4.10.0 in /usr/local/lib/python3.12/dist-packages (from torch>=1.8.0->ultralytics) (4.15.0)\n",
            "Requirement already satisfied: setuptools in /usr/local/lib/python3.12/dist-packages (from torch>=1.8.0->ultralytics) (75.2.0)\n",
            "Requirement already satisfied: sympy>=1.13.3 in /usr/local/lib/python3.12/dist-packages (from torch>=1.8.0->ultralytics) (1.13.3)\n",
            "Requirement already satisfied: networkx in /usr/local/lib/python3.12/dist-packages (from torch>=1.8.0->ultralytics) (3.5)\n",
            "Requirement already satisfied: jinja2 in /usr/local/lib/python3.12/dist-packages (from torch>=1.8.0->ultralytics) (3.1.6)\n",
            "Requirement already satisfied: fsspec in /usr/local/lib/python3.12/dist-packages (from torch>=1.8.0->ultralytics) (2025.3.0)\n",
            "Requirement already satisfied: nvidia-cuda-nvrtc-cu12==12.6.77 in /usr/local/lib/python3.12/dist-packages (from torch>=1.8.0->ultralytics) (12.6.77)\n",
            "Requirement already satisfied: nvidia-cuda-runtime-cu12==12.6.77 in /usr/local/lib/python3.12/dist-packages (from torch>=1.8.0->ultralytics) (12.6.77)\n",
            "Requirement already satisfied: nvidia-cuda-cupti-cu12==12.6.80 in /usr/local/lib/python3.12/dist-packages (from torch>=1.8.0->ultralytics) (12.6.80)\n",
            "Requirement already satisfied: nvidia-cudnn-cu12==9.10.2.21 in /usr/local/lib/python3.12/dist-packages (from torch>=1.8.0->ultralytics) (9.10.2.21)\n",
            "Requirement already satisfied: nvidia-cublas-cu12==12.6.4.1 in /usr/local/lib/python3.12/dist-packages (from torch>=1.8.0->ultralytics) (12.6.4.1)\n",
            "Requirement already satisfied: nvidia-cufft-cu12==11.3.0.4 in /usr/local/lib/python3.12/dist-packages (from torch>=1.8.0->ultralytics) (11.3.0.4)\n",
            "Requirement already satisfied: nvidia-curand-cu12==10.3.7.77 in /usr/local/lib/python3.12/dist-packages (from torch>=1.8.0->ultralytics) (10.3.7.77)\n",
            "Requirement already satisfied: nvidia-cusolver-cu12==11.7.1.2 in /usr/local/lib/python3.12/dist-packages (from torch>=1.8.0->ultralytics) (11.7.1.2)\n",
            "Requirement already satisfied: nvidia-cusparse-cu12==12.5.4.2 in /usr/local/lib/python3.12/dist-packages (from torch>=1.8.0->ultralytics) (12.5.4.2)\n",
            "Requirement already satisfied: nvidia-cusparselt-cu12==0.7.1 in /usr/local/lib/python3.12/dist-packages (from torch>=1.8.0->ultralytics) (0.7.1)\n",
            "Requirement already satisfied: nvidia-nccl-cu12==2.27.3 in /usr/local/lib/python3.12/dist-packages (from torch>=1.8.0->ultralytics) (2.27.3)\n",
            "Requirement already satisfied: nvidia-nvtx-cu12==12.6.77 in /usr/local/lib/python3.12/dist-packages (from torch>=1.8.0->ultralytics) (12.6.77)\n",
            "Requirement already satisfied: nvidia-nvjitlink-cu12==12.6.85 in /usr/local/lib/python3.12/dist-packages (from torch>=1.8.0->ultralytics) (12.6.85)\n",
            "Requirement already satisfied: nvidia-cufile-cu12==1.11.1.6 in /usr/local/lib/python3.12/dist-packages (from torch>=1.8.0->ultralytics) (1.11.1.6)\n",
            "Requirement already satisfied: triton==3.4.0 in /usr/local/lib/python3.12/dist-packages (from torch>=1.8.0->ultralytics) (3.4.0)\n",
            "Requirement already satisfied: six>=1.5 in /usr/local/lib/python3.12/dist-packages (from python-dateutil>=2.7->matplotlib>=3.3.0->ultralytics) (1.17.0)\n",
            "Requirement already satisfied: mpmath<1.4,>=1.1.0 in /usr/local/lib/python3.12/dist-packages (from sympy>=1.13.3->torch>=1.8.0->ultralytics) (1.3.0)\n",
            "Requirement already satisfied: MarkupSafe>=2.0 in /usr/local/lib/python3.12/dist-packages (from jinja2->torch>=1.8.0->ultralytics) (3.0.2)\n"
          ]
        }
      ],
      "source": [
        "!pip install ultralytics\n"
      ]
    },
    {
      "cell_type": "code",
      "execution_count": null,
      "metadata": {
        "id": "c52w1--dmtJ9"
      },
      "outputs": [],
      "source": [
        "project_dir = \"/content/drive/MyDrive/campushiring/piyush_gupta\""
      ]
    },
    {
      "cell_type": "code",
      "execution_count": null,
      "metadata": {
        "id": "0T2Yu0gSn-PX"
      },
      "outputs": [],
      "source": [
        "model_path = os.path.join(project_dir, \"src/yolov8n-seg.pt\")"
      ]
    },
    {
      "cell_type": "code",
      "execution_count": null,
      "metadata": {
        "id": "GOkxdlIUoBLW"
      },
      "outputs": [],
      "source": [
        "import os\n",
        "model_path = os.path.join(project_dir, \"src/yolov8n-seg.pt\")"
      ]
    },
    {
      "cell_type": "code",
      "execution_count": null,
      "metadata": {
        "id": "u0rOpGvVoClz"
      },
      "outputs": [],
      "source": [
        "data_yaml = os.path.join(project_dir, \"data/export-#Ug406mREPaSPGsWICLZw/data.yaml\")"
      ]
    },
    {
      "cell_type": "code",
      "execution_count": null,
      "metadata": {
        "id": "ICpvJavXoEly"
      },
      "outputs": [],
      "source": [
        "import torch"
      ]
    },
    {
      "cell_type": "code",
      "execution_count": null,
      "metadata": {
        "colab": {
          "base_uri": "https://localhost:8080/"
        },
        "id": "93br7FFroPmU",
        "outputId": "bea32197-593a-4c50-81e1-af460ca62e9b"
      },
      "outputs": [
        {
          "data": {
            "text/plain": [
              "False"
            ]
          },
          "execution_count": 13,
          "metadata": {},
          "output_type": "execute_result"
        }
      ],
      "source": [
        "torch.cuda.is_available()"
      ]
    },
    {
      "cell_type": "code",
      "execution_count": null,
      "metadata": {
        "colab": {
          "base_uri": "https://localhost:8080/"
        },
        "id": "fjWBFxbxoS63",
        "outputId": "44127084-a129-4897-b4f9-29b7ee6fcfd7"
      },
      "outputs": [
        {
          "name": "stdout",
          "output_type": "stream",
          "text": [
            "Creating new Ultralytics Settings v0.0.6 file ✅ \n",
            "View Ultralytics Settings with 'yolo settings' or at '/root/.config/Ultralytics/settings.json'\n",
            "Update Settings with 'yolo settings key=value', i.e. 'yolo settings runs_dir=path/to/dir'. For help see https://docs.ultralytics.com/quickstart/#ultralytics-settings.\n"
          ]
        }
      ],
      "source": [
        "from ultralytics import YOLO"
      ]
    },
    {
      "cell_type": "code",
      "execution_count": null,
      "metadata": {
        "id": "R4Fxu5IuoUpY"
      },
      "outputs": [],
      "source": [
        "model = YOLO(model_path)"
      ]
    },
    {
      "cell_type": "code",
      "execution_count": null,
      "metadata": {
        "colab": {
          "base_uri": "https://localhost:8080/"
        },
        "id": "eYRfbEx3oYWZ",
        "outputId": "a5bc9f34-509c-4732-c541-de33b4592a58"
      },
      "outputs": [
        {
          "name": "stdout",
          "output_type": "stream",
          "text": [
            "Training on device: cuda\n"
          ]
        }
      ],
      "source": [
        "device = \"cuda\" if torch.cuda.is_available() else \"cpu\"\n",
        "print(f\"Training on device: {device}\")"
      ]
    },
    {
      "cell_type": "code",
      "execution_count": null,
      "metadata": {
        "colab": {
          "base_uri": "https://localhost:8080/"
        },
        "collapsed": true,
        "id": "KlwJySeqodPh",
        "outputId": "ea719015-3fcd-4a4e-e638-183af9cbac3f"
      },
      "outputs": [
        {
          "name": "stdout",
          "output_type": "stream",
          "text": [
            "Ultralytics 8.3.203 🚀 Python-3.12.11 torch-2.8.0+cu126 CUDA:0 (Tesla T4, 15095MiB)\n",
            "\u001b[34m\u001b[1mengine/trainer: \u001b[0magnostic_nms=False, amp=True, augment=False, auto_augment=randaugment, batch=16, bgr=0.0, box=7.5, cache=False, cfg=None, classes=None, close_mosaic=10, cls=0.5, compile=False, conf=None, copy_paste=0.0, copy_paste_mode=flip, cos_lr=False, cutmix=0.0, data=/content/drive/MyDrive/campushiring/piyush_gupta/data/export-#Ug406mREPaSPGsWICLZw/data.yaml, degrees=0.0, deterministic=True, device=0, dfl=1.5, dnn=False, dropout=0.0, dynamic=False, embed=None, epochs=100, erasing=0.4, exist_ok=True, fliplr=0.5, flipud=0.0, format=torchscript, fraction=1.0, freeze=None, half=False, hsv_h=0.015, hsv_s=0.7, hsv_v=0.4, imgsz=640, int8=False, iou=0.7, keras=False, kobj=1.0, line_width=None, lr0=0.01, lrf=0.01, mask_ratio=4, max_det=300, mixup=0.0, mode=train, model=/content/drive/MyDrive/campushiring/piyush_gupta/src/runs/yolo-seg-finetune/weights/best.pt, momentum=0.937, mosaic=1.0, multi_scale=False, name=yolo-seg-finetune, nbs=64, nms=False, opset=None, optimize=False, optimizer=auto, overlap_mask=True, patience=100, perspective=0.0, plots=True, pose=12.0, pretrained=True, profile=False, project=/content/drive/MyDrive/campushiring/piyush_gupta/src/runs, rect=False, resume=False, retina_masks=False, save=True, save_conf=False, save_crop=False, save_dir=/content/drive/MyDrive/campushiring/piyush_gupta/src/runs/yolo-seg-finetune, save_frames=False, save_json=False, save_period=-1, save_txt=False, scale=0.5, seed=0, shear=0.0, show=False, show_boxes=True, show_conf=True, show_labels=True, simplify=True, single_cls=False, source=None, split=val, stream_buffer=False, task=segment, time=None, tracker=botsort.yaml, translate=0.1, val=True, verbose=True, vid_stride=1, visualize=False, warmup_bias_lr=0.1, warmup_epochs=3.0, warmup_momentum=0.8, weight_decay=0.0005, workers=8, workspace=None\n",
            "\n",
            "                   from  n    params  module                                       arguments                     \n",
            "  0                  -1  1       464  ultralytics.nn.modules.conv.Conv             [3, 16, 3, 2]                 \n",
            "  1                  -1  1      4672  ultralytics.nn.modules.conv.Conv             [16, 32, 3, 2]                \n",
            "  2                  -1  1      7360  ultralytics.nn.modules.block.C2f             [32, 32, 1, True]             \n",
            "  3                  -1  1     18560  ultralytics.nn.modules.conv.Conv             [32, 64, 3, 2]                \n",
            "  4                  -1  2     49664  ultralytics.nn.modules.block.C2f             [64, 64, 2, True]             \n",
            "  5                  -1  1     73984  ultralytics.nn.modules.conv.Conv             [64, 128, 3, 2]               \n",
            "  6                  -1  2    197632  ultralytics.nn.modules.block.C2f             [128, 128, 2, True]           \n",
            "  7                  -1  1    295424  ultralytics.nn.modules.conv.Conv             [128, 256, 3, 2]              \n",
            "  8                  -1  1    460288  ultralytics.nn.modules.block.C2f             [256, 256, 1, True]           \n",
            "  9                  -1  1    164608  ultralytics.nn.modules.block.SPPF            [256, 256, 5]                 \n",
            " 10                  -1  1         0  torch.nn.modules.upsampling.Upsample         [None, 2, 'nearest']          \n",
            " 11             [-1, 6]  1         0  ultralytics.nn.modules.conv.Concat           [1]                           \n",
            " 12                  -1  1    148224  ultralytics.nn.modules.block.C2f             [384, 128, 1]                 \n",
            " 13                  -1  1         0  torch.nn.modules.upsampling.Upsample         [None, 2, 'nearest']          \n",
            " 14             [-1, 4]  1         0  ultralytics.nn.modules.conv.Concat           [1]                           \n",
            " 15                  -1  1     37248  ultralytics.nn.modules.block.C2f             [192, 64, 1]                  \n",
            " 16                  -1  1     36992  ultralytics.nn.modules.conv.Conv             [64, 64, 3, 2]                \n",
            " 17            [-1, 12]  1         0  ultralytics.nn.modules.conv.Concat           [1]                           \n",
            " 18                  -1  1    123648  ultralytics.nn.modules.block.C2f             [192, 128, 1]                 \n",
            " 19                  -1  1    147712  ultralytics.nn.modules.conv.Conv             [128, 128, 3, 2]              \n",
            " 20             [-1, 9]  1         0  ultralytics.nn.modules.conv.Concat           [1]                           \n",
            " 21                  -1  1    493056  ultralytics.nn.modules.block.C2f             [384, 256, 1]                 \n",
            " 22        [15, 18, 21]  1   1004860  ultralytics.nn.modules.head.Segment          [4, 32, 64, [64, 128, 256]]   \n",
            "YOLOv8n-seg summary: 151 layers, 3,264,396 parameters, 3,264,380 gradients, 11.5 GFLOPs\n",
            "\n",
            "Transferred 87/417 items from pretrained weights\n",
            "Freezing layer 'model.22.dfl.conv.weight'\n",
            "\u001b[34m\u001b[1mAMP: \u001b[0mrunning Automatic Mixed Precision (AMP) checks...\n",
            "\u001b[KDownloading https://github.com/ultralytics/assets/releases/download/v8.3.0/yolo11n.pt to 'yolo11n.pt': 100% ━━━━━━━━━━━━ 5.4MB 64.7MB/s 0.1s\n",
            "\u001b[34m\u001b[1mAMP: \u001b[0mchecks passed ✅\n",
            "\u001b[34m\u001b[1mtrain: \u001b[0mFast image access ✅ (ping: 1.8±3.0 ms, read: 170.8±281.0 MB/s, size: 2247.3 KB)\n",
            "\u001b[K\u001b[34m\u001b[1mtrain: \u001b[0mScanning /content/drive/MyDrive/campushiring/piyush_gupta/data/export-#Ug406mREPaSPGsWICLZw/labels.cache... 114 images, 19 backgrounds, 0 corrupt: 100% ━━━━━━━━━━━━ 114/114 147.1Kit/s 0.0s\n",
            "\u001b[34m\u001b[1malbumentations: \u001b[0mBlur(p=0.01, blur_limit=(3, 7)), MedianBlur(p=0.01, blur_limit=(3, 7)), ToGray(p=0.01, method='weighted_average', num_output_channels=3), CLAHE(p=0.01, clip_limit=(1.0, 4.0), tile_grid_size=(8, 8))\n",
            "\u001b[34m\u001b[1mval: \u001b[0mFast image access ✅ (ping: 0.4±0.1 ms, read: 313.4±84.1 MB/s, size: 3207.9 KB)\n",
            "\u001b[K\u001b[34m\u001b[1mval: \u001b[0mScanning /content/drive/MyDrive/campushiring/piyush_gupta/data/export-#22Oa6IE1hNqVChVtJE93/labels.cache... 53 images, 53 backgrounds, 0 corrupt: 100% ━━━━━━━━━━━━ 53/53 44.9Kit/s 0.0s\n",
            "WARNING ⚠️ Labels are missing or empty in /content/drive/MyDrive/campushiring/piyush_gupta/data/export-#22Oa6IE1hNqVChVtJE93/labels.cache, training may not work correctly. See https://docs.ultralytics.com/datasets for dataset formatting guidance.\n",
            "Plotting labels to /content/drive/MyDrive/campushiring/piyush_gupta/src/runs/yolo-seg-finetune/labels.jpg... \n",
            "\u001b[34m\u001b[1moptimizer:\u001b[0m 'optimizer=auto' found, ignoring 'lr0=0.01' and 'momentum=0.937' and determining best 'optimizer', 'lr0' and 'momentum' automatically... \n",
            "\u001b[34m\u001b[1moptimizer:\u001b[0m AdamW(lr=0.00125, momentum=0.9) with parameter groups 66 weight(decay=0.0), 77 weight(decay=0.0005), 76 bias(decay=0.0)\n",
            "Image sizes 640 train, 640 val\n",
            "Using 2 dataloader workers\n",
            "Logging results to \u001b[1m/content/drive/MyDrive/campushiring/piyush_gupta/src/runs/yolo-seg-finetune\u001b[0m\n",
            "Starting training for 100 epochs...\n",
            "\n",
            "      Epoch    GPU_mem   box_loss   seg_loss   cls_loss   dfl_loss  Instances       Size\n",
            "\u001b[K      1/100      8.17G      3.146      4.938       3.46      2.533         39        640: 100% ━━━━━━━━━━━━ 8/8 0.1it/s 1:19\n",
            "\u001b[K                 Class     Images  Instances      Box(P          R      mAP50  mAP50-95)     Mask(P          R      mAP50  mAP50-95): 100% ━━━━━━━━━━━━ 2/2 1.3it/s 1.6s\n",
            "                   all         53          0          0          0          0          0          0          0          0          0\n",
            "WARNING ⚠️ no labels found in segment set, can not compute metrics without labels\n"
          ]
        },
        {
          "name": "stderr",
          "output_type": "stream",
          "text": [
            "/usr/local/lib/python3.12/dist-packages/ultralytics/utils/metrics.py:850: RuntimeWarning: Mean of empty slice.\n",
            "  i = smooth(f1_curve.mean(0), 0.1).argmax()  # max F1 index\n",
            "/usr/local/lib/python3.12/dist-packages/numpy/_core/_methods.py:130: RuntimeWarning: invalid value encountered in divide\n",
            "  ret = um.true_divide(\n"
          ]
        },
        {
          "name": "stdout",
          "output_type": "stream",
          "text": [
            "\n",
            "      Epoch    GPU_mem   box_loss   seg_loss   cls_loss   dfl_loss  Instances       Size\n",
            "\u001b[K      2/100      8.18G       2.84      4.272      2.987      2.395         15        640: 100% ━━━━━━━━━━━━ 8/8 0.4it/s 20.6s\n",
            "\u001b[K                 Class     Images  Instances      Box(P          R      mAP50  mAP50-95)     Mask(P          R      mAP50  mAP50-95): 100% ━━━━━━━━━━━━ 2/2 2.1it/s 1.0s\n",
            "                   all         53          0          0          0          0          0          0          0          0          0\n",
            "WARNING ⚠️ no labels found in segment set, can not compute metrics without labels\n"
          ]
        },
        {
          "name": "stderr",
          "output_type": "stream",
          "text": [
            "/usr/local/lib/python3.12/dist-packages/ultralytics/utils/metrics.py:850: RuntimeWarning: Mean of empty slice.\n",
            "  i = smooth(f1_curve.mean(0), 0.1).argmax()  # max F1 index\n",
            "/usr/local/lib/python3.12/dist-packages/numpy/_core/_methods.py:130: RuntimeWarning: invalid value encountered in divide\n",
            "  ret = um.true_divide(\n"
          ]
        },
        {
          "name": "stdout",
          "output_type": "stream",
          "text": [
            "\n",
            "      Epoch    GPU_mem   box_loss   seg_loss   cls_loss   dfl_loss  Instances       Size\n",
            "\u001b[K      3/100      8.32G      2.514       3.76      2.396      2.065         66        640: 100% ━━━━━━━━━━━━ 8/8 0.4it/s 17.9s\n",
            "\u001b[K                 Class     Images  Instances      Box(P          R      mAP50  mAP50-95)     Mask(P          R      mAP50  mAP50-95): 100% ━━━━━━━━━━━━ 2/2 3.1it/s 0.6s\n",
            "                   all         53          0          0          0          0          0          0          0          0          0\n",
            "WARNING ⚠️ no labels found in segment set, can not compute metrics without labels\n"
          ]
        },
        {
          "name": "stderr",
          "output_type": "stream",
          "text": [
            "/usr/local/lib/python3.12/dist-packages/ultralytics/utils/metrics.py:850: RuntimeWarning: Mean of empty slice.\n",
            "  i = smooth(f1_curve.mean(0), 0.1).argmax()  # max F1 index\n",
            "/usr/local/lib/python3.12/dist-packages/numpy/_core/_methods.py:130: RuntimeWarning: invalid value encountered in divide\n",
            "  ret = um.true_divide(\n"
          ]
        },
        {
          "name": "stdout",
          "output_type": "stream",
          "text": [
            "\n",
            "      Epoch    GPU_mem   box_loss   seg_loss   cls_loss   dfl_loss  Instances       Size\n",
            "\u001b[K      4/100      8.25G      2.256      3.392      2.181      1.911         13        640: 100% ━━━━━━━━━━━━ 8/8 0.7it/s 11.5s\n",
            "\u001b[K                 Class     Images  Instances      Box(P          R      mAP50  mAP50-95)     Mask(P          R      mAP50  mAP50-95): 100% ━━━━━━━━━━━━ 2/2 3.1it/s 0.6s\n",
            "                   all         53          0          0          0          0          0          0          0          0          0\n",
            "WARNING ⚠️ no labels found in segment set, can not compute metrics without labels\n"
          ]
        },
        {
          "name": "stderr",
          "output_type": "stream",
          "text": [
            "/usr/local/lib/python3.12/dist-packages/ultralytics/utils/metrics.py:850: RuntimeWarning: Mean of empty slice.\n",
            "  i = smooth(f1_curve.mean(0), 0.1).argmax()  # max F1 index\n",
            "/usr/local/lib/python3.12/dist-packages/numpy/_core/_methods.py:130: RuntimeWarning: invalid value encountered in divide\n",
            "  ret = um.true_divide(\n"
          ]
        },
        {
          "name": "stdout",
          "output_type": "stream",
          "text": [
            "\n",
            "      Epoch    GPU_mem   box_loss   seg_loss   cls_loss   dfl_loss  Instances       Size\n",
            "\u001b[K      5/100       8.2G      2.013      3.283      2.014       1.83         26        640: 100% ━━━━━━━━━━━━ 8/8 0.9it/s 8.7s\n",
            "\u001b[K                 Class     Images  Instances      Box(P          R      mAP50  mAP50-95)     Mask(P          R      mAP50  mAP50-95): 100% ━━━━━━━━━━━━ 2/2 0.1it/s 18.6s\n",
            "                   all         53          0          0          0          0          0          0          0          0          0\n",
            "WARNING ⚠️ no labels found in segment set, can not compute metrics without labels\n"
          ]
        },
        {
          "name": "stderr",
          "output_type": "stream",
          "text": [
            "/usr/local/lib/python3.12/dist-packages/ultralytics/utils/metrics.py:850: RuntimeWarning: Mean of empty slice.\n",
            "  i = smooth(f1_curve.mean(0), 0.1).argmax()  # max F1 index\n",
            "/usr/local/lib/python3.12/dist-packages/numpy/_core/_methods.py:130: RuntimeWarning: invalid value encountered in divide\n",
            "  ret = um.true_divide(\n"
          ]
        },
        {
          "name": "stdout",
          "output_type": "stream",
          "text": [
            "\n",
            "      Epoch    GPU_mem   box_loss   seg_loss   cls_loss   dfl_loss  Instances       Size\n",
            "\u001b[K      6/100      8.21G      1.859      3.116      1.943      1.647         21        640: 100% ━━━━━━━━━━━━ 8/8 1.6it/s 5.1s\n",
            "\u001b[K                 Class     Images  Instances      Box(P          R      mAP50  mAP50-95)     Mask(P          R      mAP50  mAP50-95): 100% ━━━━━━━━━━━━ 2/2 0.1it/s 17.6s\n",
            "                   all         53          0          0          0          0          0          0          0          0          0\n",
            "WARNING ⚠️ no labels found in segment set, can not compute metrics without labels\n"
          ]
        },
        {
          "name": "stderr",
          "output_type": "stream",
          "text": [
            "/usr/local/lib/python3.12/dist-packages/ultralytics/utils/metrics.py:850: RuntimeWarning: Mean of empty slice.\n",
            "  i = smooth(f1_curve.mean(0), 0.1).argmax()  # max F1 index\n",
            "/usr/local/lib/python3.12/dist-packages/numpy/_core/_methods.py:130: RuntimeWarning: invalid value encountered in divide\n",
            "  ret = um.true_divide(\n"
          ]
        },
        {
          "name": "stdout",
          "output_type": "stream",
          "text": [
            "\n",
            "      Epoch    GPU_mem   box_loss   seg_loss   cls_loss   dfl_loss  Instances       Size\n",
            "\u001b[K      7/100      8.34G       1.64      2.931      1.801      1.532          7        640: 100% ━━━━━━━━━━━━ 8/8 2.1it/s 3.8s\n",
            "\u001b[K                 Class     Images  Instances      Box(P          R      mAP50  mAP50-95)     Mask(P          R      mAP50  mAP50-95): 100% ━━━━━━━━━━━━ 2/2 0.1it/s 17.1s\n",
            "                   all         53          0          0          0          0          0          0          0          0          0\n",
            "WARNING ⚠️ no labels found in segment set, can not compute metrics without labels\n"
          ]
        },
        {
          "name": "stderr",
          "output_type": "stream",
          "text": [
            "/usr/local/lib/python3.12/dist-packages/ultralytics/utils/metrics.py:850: RuntimeWarning: Mean of empty slice.\n",
            "  i = smooth(f1_curve.mean(0), 0.1).argmax()  # max F1 index\n",
            "/usr/local/lib/python3.12/dist-packages/numpy/_core/_methods.py:130: RuntimeWarning: invalid value encountered in divide\n",
            "  ret = um.true_divide(\n"
          ]
        },
        {
          "name": "stdout",
          "output_type": "stream",
          "text": [
            "\n",
            "      Epoch    GPU_mem   box_loss   seg_loss   cls_loss   dfl_loss  Instances       Size\n",
            "\u001b[K      8/100      8.26G      1.774      3.049      2.825      1.552          8        640: 100% ━━━━━━━━━━━━ 8/8 1.9it/s 4.3s\n",
            "\u001b[K                 Class     Images  Instances      Box(P          R      mAP50  mAP50-95)     Mask(P          R      mAP50  mAP50-95): 100% ━━━━━━━━━━━━ 2/2 0.1it/s 16.1s\n",
            "                   all         53          0          0          0          0          0          0          0          0          0\n",
            "WARNING ⚠️ no labels found in segment set, can not compute metrics without labels\n"
          ]
        },
        {
          "name": "stderr",
          "output_type": "stream",
          "text": [
            "/usr/local/lib/python3.12/dist-packages/ultralytics/utils/metrics.py:850: RuntimeWarning: Mean of empty slice.\n",
            "  i = smooth(f1_curve.mean(0), 0.1).argmax()  # max F1 index\n",
            "/usr/local/lib/python3.12/dist-packages/numpy/_core/_methods.py:130: RuntimeWarning: invalid value encountered in divide\n",
            "  ret = um.true_divide(\n"
          ]
        },
        {
          "name": "stdout",
          "output_type": "stream",
          "text": [
            "\n",
            "      Epoch    GPU_mem   box_loss   seg_loss   cls_loss   dfl_loss  Instances       Size\n",
            "\u001b[K      9/100      8.31G      1.538      2.823      1.608      1.438         20        640: 100% ━━━━━━━━━━━━ 8/8 1.5it/s 5.4s\n",
            "\u001b[K                 Class     Images  Instances      Box(P          R      mAP50  mAP50-95)     Mask(P          R      mAP50  mAP50-95): 100% ━━━━━━━━━━━━ 2/2 0.1it/s 15.2s\n",
            "                   all         53          0          0          0          0          0          0          0          0          0\n",
            "WARNING ⚠️ no labels found in segment set, can not compute metrics without labels\n"
          ]
        },
        {
          "name": "stderr",
          "output_type": "stream",
          "text": [
            "/usr/local/lib/python3.12/dist-packages/ultralytics/utils/metrics.py:850: RuntimeWarning: Mean of empty slice.\n",
            "  i = smooth(f1_curve.mean(0), 0.1).argmax()  # max F1 index\n",
            "/usr/local/lib/python3.12/dist-packages/numpy/_core/_methods.py:130: RuntimeWarning: invalid value encountered in divide\n",
            "  ret = um.true_divide(\n"
          ]
        },
        {
          "name": "stdout",
          "output_type": "stream",
          "text": [
            "\n",
            "      Epoch    GPU_mem   box_loss   seg_loss   cls_loss   dfl_loss  Instances       Size\n",
            "\u001b[K     10/100       8.3G      1.506      2.708      1.505      1.359         33        640: 100% ━━━━━━━━━━━━ 8/8 2.0it/s 3.9s\n",
            "\u001b[K                 Class     Images  Instances      Box(P          R      mAP50  mAP50-95)     Mask(P          R      mAP50  mAP50-95): 100% ━━━━━━━━━━━━ 2/2 0.1it/s 17.1s\n",
            "                   all         53          0          0          0          0          0          0          0          0          0\n",
            "WARNING ⚠️ no labels found in segment set, can not compute metrics without labels\n"
          ]
        },
        {
          "name": "stderr",
          "output_type": "stream",
          "text": [
            "/usr/local/lib/python3.12/dist-packages/ultralytics/utils/metrics.py:850: RuntimeWarning: Mean of empty slice.\n",
            "  i = smooth(f1_curve.mean(0), 0.1).argmax()  # max F1 index\n",
            "/usr/local/lib/python3.12/dist-packages/numpy/_core/_methods.py:130: RuntimeWarning: invalid value encountered in divide\n",
            "  ret = um.true_divide(\n"
          ]
        },
        {
          "name": "stdout",
          "output_type": "stream",
          "text": [
            "\n",
            "      Epoch    GPU_mem   box_loss   seg_loss   cls_loss   dfl_loss  Instances       Size\n",
            "\u001b[K     11/100      8.22G      1.454      2.703      1.507      1.348         29        640: 100% ━━━━━━━━━━━━ 8/8 1.4it/s 5.5s\n",
            "\u001b[K                 Class     Images  Instances      Box(P          R      mAP50  mAP50-95)     Mask(P          R      mAP50  mAP50-95): 100% ━━━━━━━━━━━━ 2/2 0.1it/s 14.8s\n",
            "                   all         53          0          0          0          0          0          0          0          0          0\n",
            "WARNING ⚠️ no labels found in segment set, can not compute metrics without labels\n"
          ]
        },
        {
          "name": "stderr",
          "output_type": "stream",
          "text": [
            "/usr/local/lib/python3.12/dist-packages/ultralytics/utils/metrics.py:850: RuntimeWarning: Mean of empty slice.\n",
            "  i = smooth(f1_curve.mean(0), 0.1).argmax()  # max F1 index\n",
            "/usr/local/lib/python3.12/dist-packages/numpy/_core/_methods.py:130: RuntimeWarning: invalid value encountered in divide\n",
            "  ret = um.true_divide(\n"
          ]
        },
        {
          "name": "stdout",
          "output_type": "stream",
          "text": [
            "\n",
            "      Epoch    GPU_mem   box_loss   seg_loss   cls_loss   dfl_loss  Instances       Size\n",
            "\u001b[K     12/100      8.25G      1.382      2.472      1.471        1.3         27        640: 100% ━━━━━━━━━━━━ 8/8 1.9it/s 4.2s\n",
            "\u001b[K                 Class     Images  Instances      Box(P          R      mAP50  mAP50-95)     Mask(P          R      mAP50  mAP50-95): 100% ━━━━━━━━━━━━ 2/2 0.1it/s 15.6s\n",
            "                   all         53          0          0          0          0          0          0          0          0          0\n",
            "WARNING ⚠️ no labels found in segment set, can not compute metrics without labels\n"
          ]
        },
        {
          "name": "stderr",
          "output_type": "stream",
          "text": [
            "/usr/local/lib/python3.12/dist-packages/ultralytics/utils/metrics.py:850: RuntimeWarning: Mean of empty slice.\n",
            "  i = smooth(f1_curve.mean(0), 0.1).argmax()  # max F1 index\n",
            "/usr/local/lib/python3.12/dist-packages/numpy/_core/_methods.py:130: RuntimeWarning: invalid value encountered in divide\n",
            "  ret = um.true_divide(\n"
          ]
        },
        {
          "name": "stdout",
          "output_type": "stream",
          "text": [
            "\n",
            "      Epoch    GPU_mem   box_loss   seg_loss   cls_loss   dfl_loss  Instances       Size\n",
            "\u001b[K     13/100      8.28G      1.364      2.669      1.483      1.312         10        640: 100% ━━━━━━━━━━━━ 8/8 1.4it/s 5.8s\n",
            "\u001b[K                 Class     Images  Instances      Box(P          R      mAP50  mAP50-95)     Mask(P          R      mAP50  mAP50-95): 100% ━━━━━━━━━━━━ 2/2 0.1it/s 14.8s\n",
            "                   all         53          0          0          0          0          0          0          0          0          0\n",
            "WARNING ⚠️ no labels found in segment set, can not compute metrics without labels\n"
          ]
        },
        {
          "name": "stderr",
          "output_type": "stream",
          "text": [
            "/usr/local/lib/python3.12/dist-packages/ultralytics/utils/metrics.py:850: RuntimeWarning: Mean of empty slice.\n",
            "  i = smooth(f1_curve.mean(0), 0.1).argmax()  # max F1 index\n",
            "/usr/local/lib/python3.12/dist-packages/numpy/_core/_methods.py:130: RuntimeWarning: invalid value encountered in divide\n",
            "  ret = um.true_divide(\n"
          ]
        },
        {
          "name": "stdout",
          "output_type": "stream",
          "text": [
            "\n",
            "      Epoch    GPU_mem   box_loss   seg_loss   cls_loss   dfl_loss  Instances       Size\n",
            "\u001b[K     14/100      8.25G      1.343      2.551      1.447      1.284         14        640: 100% ━━━━━━━━━━━━ 8/8 2.1it/s 3.8s\n",
            "\u001b[K                 Class     Images  Instances      Box(P          R      mAP50  mAP50-95)     Mask(P          R      mAP50  mAP50-95): 100% ━━━━━━━━━━━━ 2/2 0.1it/s 14.9s\n",
            "                   all         53          0          0          0          0          0          0          0          0          0\n",
            "WARNING ⚠️ no labels found in segment set, can not compute metrics without labels\n"
          ]
        },
        {
          "name": "stderr",
          "output_type": "stream",
          "text": [
            "/usr/local/lib/python3.12/dist-packages/ultralytics/utils/metrics.py:850: RuntimeWarning: Mean of empty slice.\n",
            "  i = smooth(f1_curve.mean(0), 0.1).argmax()  # max F1 index\n",
            "/usr/local/lib/python3.12/dist-packages/numpy/_core/_methods.py:130: RuntimeWarning: invalid value encountered in divide\n",
            "  ret = um.true_divide(\n"
          ]
        },
        {
          "name": "stdout",
          "output_type": "stream",
          "text": [
            "\n",
            "      Epoch    GPU_mem   box_loss   seg_loss   cls_loss   dfl_loss  Instances       Size\n",
            "\u001b[K     15/100      8.33G      1.302      2.407      1.315      1.243         30        640: 100% ━━━━━━━━━━━━ 8/8 1.5it/s 5.2s\n"
          ]
        }
      ],
      "source": [
        "model.train(\n",
        "    data=data_yaml,\n",
        "    epochs=100,        \n",
        "    imgsz=640,        \n",
        "    batch=16,         \n",
        "    device=device,\n",
        "    project=os.path.join(project_dir, \"src/runs\"),  \n",
        "    name=\"yolo-seg-finetune\",\n",
        "    exist_ok=True\n",
        ")"
      ]
    },
    {
      "cell_type": "code",
      "execution_count": null,
      "metadata": {
        "colab": {
          "base_uri": "https://localhost:8080/",
          "height": 144
        },
        "id": "YL77sTJ9ohR2",
        "outputId": "a8f3cf26-312c-48b9-8fc9-706ce4426815"
      },
      "outputs": [
        {
          "ename": "NameError",
          "evalue": "name 'YOLO' is not defined",
          "output_type": "error",
          "traceback": [
            "\u001b[0;31m---------------------------------------------------------------------------\u001b[0m",
            "\u001b[0;31mNameError\u001b[0m                                 Traceback (most recent call last)",
            "\u001b[0;32m/tmp/ipython-input-622118909.py\u001b[0m in \u001b[0;36m<cell line: 0>\u001b[0;34m()\u001b[0m\n\u001b[0;32m----> 1\u001b[0;31m \u001b[0mmodel\u001b[0m \u001b[0;34m=\u001b[0m \u001b[0mYOLO\u001b[0m\u001b[0;34m(\u001b[0m\u001b[0;34m\"/content/drive/MyDrive/campushiring/piyush_gupta/src/runs/yolo-seg-finetune/weights/best.pt\"\u001b[0m\u001b[0;34m)\u001b[0m\u001b[0;34m\u001b[0m\u001b[0;34m\u001b[0m\u001b[0m\n\u001b[0m",
            "\u001b[0;31mNameError\u001b[0m: name 'YOLO' is not defined"
          ]
        }
      ],
      "source": [
        "model = YOLO(\"/content/drive/MyDrive/campushiring/piyush_gupta/src/runs/yolo-seg-finetune/weights/best.pt\")"
      ]
    },
    {
      "cell_type": "code",
      "execution_count": null,
      "metadata": {
        "colab": {
          "base_uri": "https://localhost:8080/"
        },
        "id": "YOIdEbS_3o7e",
        "outputId": "14875716-9197-4ec1-de38-a64d48ff04be"
      },
      "outputs": [
        {
          "name": "stdout",
          "output_type": "stream",
          "text": [
            "Ultralytics 8.3.203 🚀 Python-3.12.11 torch-2.8.0+cu126 CPU (Intel Xeon CPU @ 2.20GHz)\n",
            "YOLOv8n-seg summary (fused): 85 layers, 3,404,320 parameters, 0 gradients, 12.0 GFLOPs\n",
            "\n",
            "WARNING ⚠️ Dataset 'coco.yaml' images not found, missing path '/content/datasets/coco/val2017.txt'\n",
            "\u001b[KDownloading https://ultralytics.com/assets/coco2017labels-segments.zip to '/content/datasets/coco2017labels-segments.zip': 100% ━━━━━━━━━━━━ 168.5MB 110.3MB/s 1.5s\n",
            "\u001b[KUnzipping /content/datasets/coco2017labels-segments.zip to /content/datasets/coco...: 100% ━━━━━━━━━━━━ 122232/122232 3.7Kfiles/s 33.4s\n",
            "Downloading 3 file(s) with 3 threads to /content/datasets/coco/images...\n",
            "\u001b[KDownloading http://images.cocodataset.org/zips/val2017.zip to '/content/datasets/coco/images/val2017.zip': 100% ━━━━━━━━━━━━ 777.8MB 32.8MB/s 23.7s\n",
            "\u001b[KUnzipping /content/datasets/coco/images/val2017.zip to /content/datasets/coco/images/val2017...: 100% ━━━━━━━━━━━━ 5001/5001 276.8files/s 18.1s\n",
            "\u001b[KDownloading http://images.cocodataset.org/zips/test2017.zip to '/content/datasets/coco/images/test2017.zip': 100% ━━━━━━━━━━━━ 6.2GB 36.7MB/s 2:53\n",
            "\u001b[KUnzipping /content/datasets/coco/images/test2017.zip to /content/datasets/coco/images/test2017...: 100% ━━━━━━━━━━━━ 40671/40671 387.0files/s 1:45\n",
            "\u001b[KDownloading http://images.cocodataset.org/zips/train2017.zip to '/content/datasets/coco/images/train2017.zip': 100% ━━━━━━━━━━━━ 18.0GB 38.9MB/s 7:54\n",
            "\u001b[KUnzipping /content/datasets/coco/images/train2017.zip to /content/datasets/coco/images/train2017...: 100% ━━━━━━━━━━━━ 118288/118288 478.7files/s 4:07\n",
            "Dataset download success ✅ (759.8s), saved to \u001b[1m/content/datasets\u001b[0m\n",
            "\n",
            "\u001b[KDownloading https://ultralytics.com/assets/Arial.ttf to '/root/.config/Ultralytics/Arial.ttf': 100% ━━━━━━━━━━━━ 755.1KB 23.0MB/s 0.0s\n",
            "\u001b[34m\u001b[1mval: \u001b[0mFast image access ✅ (ping: 0.1±0.0 ms, read: 44.2±14.1 MB/s, size: 202.2 KB)\n",
            "\u001b[K\u001b[34m\u001b[1mval: \u001b[0mScanning /content/datasets/coco/labels/val2017... 4952 images, 48 backgrounds, 0 corrupt: 100% ━━━━━━━━━━━━ 5000/5000 275.0it/s 18.2s\n",
            "\u001b[34m\u001b[1mval: \u001b[0mNew cache created: /content/datasets/coco/labels/val2017.cache\n",
            "\u001b[31m\u001b[1mrequirements:\u001b[0m Ultralytics requirement ['faster-coco-eval>=1.6.7'] not found, attempting AutoUpdate...\n",
            "\n",
            "\u001b[31m\u001b[1mrequirements:\u001b[0m AutoUpdate success ✅ 0.9s\n",
            "WARNING ⚠️ \u001b[31m\u001b[1mrequirements:\u001b[0m \u001b[1mRestart runtime or rerun command for updates to take effect\u001b[0m\n",
            "\n",
            "\u001b[K                 Class     Images  Instances      Box(P          R      mAP50  mAP50-95)     Mask(P          R      mAP50  mAP50-95): 9% ━─────────── 27/313 0.0it/s 15:54<2:46:52"
          ]
        }
      ],
      "source": [
        "metrics = model.val()"
      ]
    },
    {
      "cell_type": "code",
      "execution_count": null,
      "metadata": {
        "id": "zWQKJn7S7u0b"
      },
      "outputs": [],
      "source": [
        "import json\n",
        "import matplotlib.pyplot as plt\n",
        "\n",
        "metrics_path = \"/content/runs/segment/val/metrics.json\"\n",
        "\n",
        "with open(metrics_path) as f:\n",
        "    metrics = json.load(f)\n",
        "\n",
        "# Example: plot mask mAP50 per epoch/class\n",
        "plt.bar(metrics['class_names'], metrics['mask_mAP50'])\n",
        "plt.xlabel(\"Class\")\n",
        "plt.ylabel(\"Mask mAP50\")\n",
        "plt.title(\"Segmentation Performance per Class\")\n",
        "plt.show()\n"
      ]
    },
    {
      "cell_type": "code",
      "execution_count": null,
      "metadata": {
        "colab": {
          "base_uri": "https://localhost:8080/"
        },
        "collapsed": true,
        "id": "eTuXnVoBQw7x",
        "outputId": "c9985ff1-782f-4d68-df46-eb49e391838d"
      },
      "outputs": [
        {
          "name": "stdout",
          "output_type": "stream",
          "text": [
            "Requirement already satisfied: ultralytics in /usr/local/lib/python3.12/dist-packages (8.3.203)\n",
            "Requirement already satisfied: numpy>=1.23.0 in /usr/local/lib/python3.12/dist-packages (from ultralytics) (2.0.2)\n",
            "Requirement already satisfied: matplotlib>=3.3.0 in /usr/local/lib/python3.12/dist-packages (from ultralytics) (3.10.0)\n",
            "Requirement already satisfied: opencv-python>=4.6.0 in /usr/local/lib/python3.12/dist-packages (from ultralytics) (4.12.0.88)\n",
            "Requirement already satisfied: pillow>=7.1.2 in /usr/local/lib/python3.12/dist-packages (from ultralytics) (11.3.0)\n",
            "Requirement already satisfied: pyyaml>=5.3.1 in /usr/local/lib/python3.12/dist-packages (from ultralytics) (6.0.2)\n",
            "Requirement already satisfied: requests>=2.23.0 in /usr/local/lib/python3.12/dist-packages (from ultralytics) (2.32.4)\n",
            "Requirement already satisfied: scipy>=1.4.1 in /usr/local/lib/python3.12/dist-packages (from ultralytics) (1.16.2)\n",
            "Requirement already satisfied: torch>=1.8.0 in /usr/local/lib/python3.12/dist-packages (from ultralytics) (2.8.0+cu126)\n",
            "Requirement already satisfied: torchvision>=0.9.0 in /usr/local/lib/python3.12/dist-packages (from ultralytics) (0.23.0+cu126)\n",
            "Requirement already satisfied: psutil in /usr/local/lib/python3.12/dist-packages (from ultralytics) (5.9.5)\n",
            "Requirement already satisfied: polars in /usr/local/lib/python3.12/dist-packages (from ultralytics) (1.25.2)\n",
            "Requirement already satisfied: ultralytics-thop>=2.0.0 in /usr/local/lib/python3.12/dist-packages (from ultralytics) (2.0.17)\n",
            "Requirement already satisfied: contourpy>=1.0.1 in /usr/local/lib/python3.12/dist-packages (from matplotlib>=3.3.0->ultralytics) (1.3.3)\n",
            "Requirement already satisfied: cycler>=0.10 in /usr/local/lib/python3.12/dist-packages (from matplotlib>=3.3.0->ultralytics) (0.12.1)\n",
            "Requirement already satisfied: fonttools>=4.22.0 in /usr/local/lib/python3.12/dist-packages (from matplotlib>=3.3.0->ultralytics) (4.60.0)\n",
            "Requirement already satisfied: kiwisolver>=1.3.1 in /usr/local/lib/python3.12/dist-packages (from matplotlib>=3.3.0->ultralytics) (1.4.9)\n",
            "Requirement already satisfied: packaging>=20.0 in /usr/local/lib/python3.12/dist-packages (from matplotlib>=3.3.0->ultralytics) (25.0)\n",
            "Requirement already satisfied: pyparsing>=2.3.1 in /usr/local/lib/python3.12/dist-packages (from matplotlib>=3.3.0->ultralytics) (3.2.4)\n",
            "Requirement already satisfied: python-dateutil>=2.7 in /usr/local/lib/python3.12/dist-packages (from matplotlib>=3.3.0->ultralytics) (2.9.0.post0)\n",
            "Requirement already satisfied: charset_normalizer<4,>=2 in /usr/local/lib/python3.12/dist-packages (from requests>=2.23.0->ultralytics) (3.4.3)\n",
            "Requirement already satisfied: idna<4,>=2.5 in /usr/local/lib/python3.12/dist-packages (from requests>=2.23.0->ultralytics) (3.10)\n",
            "Requirement already satisfied: urllib3<3,>=1.21.1 in /usr/local/lib/python3.12/dist-packages (from requests>=2.23.0->ultralytics) (2.5.0)\n",
            "Requirement already satisfied: certifi>=2017.4.17 in /usr/local/lib/python3.12/dist-packages (from requests>=2.23.0->ultralytics) (2025.8.3)\n",
            "Requirement already satisfied: filelock in /usr/local/lib/python3.12/dist-packages (from torch>=1.8.0->ultralytics) (3.19.1)\n",
            "Requirement already satisfied: typing-extensions>=4.10.0 in /usr/local/lib/python3.12/dist-packages (from torch>=1.8.0->ultralytics) (4.15.0)\n",
            "Requirement already satisfied: setuptools in /usr/local/lib/python3.12/dist-packages (from torch>=1.8.0->ultralytics) (75.2.0)\n",
            "Requirement already satisfied: sympy>=1.13.3 in /usr/local/lib/python3.12/dist-packages (from torch>=1.8.0->ultralytics) (1.13.3)\n",
            "Requirement already satisfied: networkx in /usr/local/lib/python3.12/dist-packages (from torch>=1.8.0->ultralytics) (3.5)\n",
            "Requirement already satisfied: jinja2 in /usr/local/lib/python3.12/dist-packages (from torch>=1.8.0->ultralytics) (3.1.6)\n",
            "Requirement already satisfied: fsspec in /usr/local/lib/python3.12/dist-packages (from torch>=1.8.0->ultralytics) (2025.3.0)\n",
            "Requirement already satisfied: nvidia-cuda-nvrtc-cu12==12.6.77 in /usr/local/lib/python3.12/dist-packages (from torch>=1.8.0->ultralytics) (12.6.77)\n",
            "Requirement already satisfied: nvidia-cuda-runtime-cu12==12.6.77 in /usr/local/lib/python3.12/dist-packages (from torch>=1.8.0->ultralytics) (12.6.77)\n",
            "Requirement already satisfied: nvidia-cuda-cupti-cu12==12.6.80 in /usr/local/lib/python3.12/dist-packages (from torch>=1.8.0->ultralytics) (12.6.80)\n",
            "Requirement already satisfied: nvidia-cudnn-cu12==9.10.2.21 in /usr/local/lib/python3.12/dist-packages (from torch>=1.8.0->ultralytics) (9.10.2.21)\n",
            "Requirement already satisfied: nvidia-cublas-cu12==12.6.4.1 in /usr/local/lib/python3.12/dist-packages (from torch>=1.8.0->ultralytics) (12.6.4.1)\n",
            "Requirement already satisfied: nvidia-cufft-cu12==11.3.0.4 in /usr/local/lib/python3.12/dist-packages (from torch>=1.8.0->ultralytics) (11.3.0.4)\n",
            "Requirement already satisfied: nvidia-curand-cu12==10.3.7.77 in /usr/local/lib/python3.12/dist-packages (from torch>=1.8.0->ultralytics) (10.3.7.77)\n",
            "Requirement already satisfied: nvidia-cusolver-cu12==11.7.1.2 in /usr/local/lib/python3.12/dist-packages (from torch>=1.8.0->ultralytics) (11.7.1.2)\n",
            "Requirement already satisfied: nvidia-cusparse-cu12==12.5.4.2 in /usr/local/lib/python3.12/dist-packages (from torch>=1.8.0->ultralytics) (12.5.4.2)\n",
            "Requirement already satisfied: nvidia-cusparselt-cu12==0.7.1 in /usr/local/lib/python3.12/dist-packages (from torch>=1.8.0->ultralytics) (0.7.1)\n",
            "Requirement already satisfied: nvidia-nccl-cu12==2.27.3 in /usr/local/lib/python3.12/dist-packages (from torch>=1.8.0->ultralytics) (2.27.3)\n",
            "Requirement already satisfied: nvidia-nvtx-cu12==12.6.77 in /usr/local/lib/python3.12/dist-packages (from torch>=1.8.0->ultralytics) (12.6.77)\n",
            "Requirement already satisfied: nvidia-nvjitlink-cu12==12.6.85 in /usr/local/lib/python3.12/dist-packages (from torch>=1.8.0->ultralytics) (12.6.85)\n",
            "Requirement already satisfied: nvidia-cufile-cu12==1.11.1.6 in /usr/local/lib/python3.12/dist-packages (from torch>=1.8.0->ultralytics) (1.11.1.6)\n",
            "Requirement already satisfied: triton==3.4.0 in /usr/local/lib/python3.12/dist-packages (from torch>=1.8.0->ultralytics) (3.4.0)\n",
            "Requirement already satisfied: six>=1.5 in /usr/local/lib/python3.12/dist-packages (from python-dateutil>=2.7->matplotlib>=3.3.0->ultralytics) (1.17.0)\n",
            "Requirement already satisfied: mpmath<1.4,>=1.1.0 in /usr/local/lib/python3.12/dist-packages (from sympy>=1.13.3->torch>=1.8.0->ultralytics) (1.3.0)\n",
            "Requirement already satisfied: MarkupSafe>=2.0 in /usr/local/lib/python3.12/dist-packages (from jinja2->torch>=1.8.0->ultralytics) (3.0.2)\n"
          ]
        }
      ],
      "source": [
        "!pip install ultralytics --upgrade"
      ]
    },
    {
      "cell_type": "code",
      "execution_count": null,
      "metadata": {
        "colab": {
          "base_uri": "https://localhost:8080/"
        },
        "id": "FK2bO4AqQZ_y",
        "outputId": "be4b82cd-8988-4cac-b747-61f7c6af61f7"
      },
      "outputs": [
        {
          "name": "stdout",
          "output_type": "stream",
          "text": [
            "ls: cannot access '/content/drive/MyDrive/campushiring/piyush_gupta/src/runs/yolo-seg-finetune/weights': No such file or directory\n"
          ]
        }
      ],
      "source": [
        "!ls \"/content/drive/MyDrive/campushiring/piyush_gupta/src/runs/yolo-seg-finetune/weights\"\n"
      ]
    },
    {
      "cell_type": "code",
      "execution_count": null,
      "metadata": {
        "colab": {
          "base_uri": "https://localhost:8080/"
        },
        "id": "4C6Yx9y0QFkb",
        "outputId": "7970bb95-bff3-4aae-c641-cd0674f3f86a"
      },
      "outputs": [
        {
          "name": "stdout",
          "output_type": "stream",
          "text": [
            "Drive already mounted at /content/drive; to attempt to forcibly remount, call drive.mount(\"/content/drive\", force_remount=True).\n"
          ]
        }
      ],
      "source": [
        "from google.colab import drive\n",
        "drive.mount('/content/drive')"
      ]
    },
    {
      "cell_type": "code",
      "execution_count": null,
      "metadata": {
        "colab": {
          "base_uri": "https://localhost:8080/"
        },
        "id": "DGzagMhRNmkJ",
        "outputId": "56bb153c-1029-46bb-f310-ebf8601d2e27"
      },
      "outputs": [
        {
          "name": "stdout",
          "output_type": "stream",
          "text": [
            "\n",
            "image 1/53 /content/drive/MyDrive/campushiring/piyush_gupta/data/test_pics/13on-HlcNKOAi5vQ-unsplash.jpg: 288x640 4 Roads, 1 TwoWheeler, 14 Pedestrians, 8.7ms\n",
            "image 2/53 /content/drive/MyDrive/campushiring/piyush_gupta/data/test_pics/adrien-olichon--dX49A6SU9w-unsplash.jpg: 448x640 1 Road, 1 TwoWheeler, 6 Pedestrians, 4 Vehicles, 8.7ms\n",
            "image 3/53 /content/drive/MyDrive/campushiring/piyush_gupta/data/test_pics/agus-karta-iU2SQFPp8-0-unsplash.jpg: 640x480 1 Road, 8.6ms\n",
            "image 4/53 /content/drive/MyDrive/campushiring/piyush_gupta/data/test_pics/alex-WLo5xdAvuHo-unsplash.jpg: 448x640 1 Road, 1 TwoWheeler, 2 Pedestrians, 4 Vehicles, 8.6ms\n",
            "image 5/53 /content/drive/MyDrive/campushiring/piyush_gupta/data/test_pics/anastasiya-badun-Z_5aq1MWrCQ-unsplash.jpg: 448x640 1 Road, 3 Pedestrians, 2 Vehicles, 7.8ms\n",
            "image 6/53 /content/drive/MyDrive/campushiring/piyush_gupta/data/test_pics/annegret-kammer-KIx86fDuHA4-unsplash.jpg: 640x448 3 Roads, 3 Pedestrians, 8.3ms\n",
            "image 7/53 /content/drive/MyDrive/campushiring/piyush_gupta/data/test_pics/anthony-hill-M3L3QorbvM0-unsplash.jpg: 640x448 8 Pedestrians, 7.4ms\n",
            "image 8/53 /content/drive/MyDrive/campushiring/piyush_gupta/data/test_pics/arifin-salleh-TRFxLNWFUw0-unsplash.jpg: 640x448 1 Road, 1 TwoWheeler, 1 Pedestrian, 7.6ms\n",
            "image 9/53 /content/drive/MyDrive/campushiring/piyush_gupta/data/test_pics/arron-choi-3y4uX2bQVEQ-unsplash.jpg: 448x640 1 Road, 2 Pedestrians, 3 Vehicles, 8.5ms\n",
            "image 10/53 /content/drive/MyDrive/campushiring/piyush_gupta/data/test_pics/bridget-adolfo-1I4lpY02icU-unsplash.jpg: 448x640 1 Road, 12.4ms\n",
            "image 11/53 /content/drive/MyDrive/campushiring/piyush_gupta/data/test_pics/bruno-van-der-kraan-LoS9sOGo-08-unsplash.jpg: 640x480 1 Road, 2 TwoWheelers, 5 Pedestrians, 8.3ms\n",
            "image 12/53 /content/drive/MyDrive/campushiring/piyush_gupta/data/test_pics/carmen-laezza-VRg47pTZvTw-unsplash.jpg: 640x544 3 Roads, 4 Pedestrians, 1 Vehicle, 9.7ms\n",
            "image 13/53 /content/drive/MyDrive/campushiring/piyush_gupta/data/test_pics/catrine-rasmussen-J0f2_u04BN4-unsplash.jpg: 640x480 6 Pedestrians, 8.3ms\n",
            "image 14/53 /content/drive/MyDrive/campushiring/piyush_gupta/data/test_pics/chonlatis-b-T32xcHNkr7U-unsplash.jpg: 640x480 1 Pedestrian, 2 Vehicles, 7.6ms\n",
            "image 15/53 /content/drive/MyDrive/campushiring/piyush_gupta/data/test_pics/chuan-tsai-0vEUC7qphqQ-unsplash.jpg: 448x640 4 TwoWheelers, 6 Pedestrians, 4 Vehicles, 8.0ms\n",
            "image 16/53 /content/drive/MyDrive/campushiring/piyush_gupta/data/test_pics/chuan-tsai-Rq8UGNMFGF8-unsplash.jpg: 448x640 2 Roads, 2 Pedestrians, 10 Vehicles, 7.4ms\n",
            "image 17/53 /content/drive/MyDrive/campushiring/piyush_gupta/data/test_pics/chuan-tsai-s3-Bj1gnPLw-unsplash.jpg: 448x640 3 Roads, 1 TwoWheeler, 4 Pedestrians, 3 Vehicles, 7.4ms\n",
            "image 18/53 /content/drive/MyDrive/campushiring/piyush_gupta/data/test_pics/chuttersnap-qvT_629hapk-unsplash.jpg: 448x640 1 Road, 9 Pedestrians, 7.6ms\n",
            "image 19/53 /content/drive/MyDrive/campushiring/piyush_gupta/data/test_pics/claudio-schwarz-FV_zjDg1uWQ-unsplash.jpg: 448x640 2 Roads, 2 TwoWheelers, 1 Pedestrian, 4 Vehicles, 7.8ms\n",
            "image 20/53 /content/drive/MyDrive/campushiring/piyush_gupta/data/test_pics/claudio-schwarz-GqdtOdUanlE-unsplash.jpg: 640x448 2 Roads, 6 Pedestrians, 17.3ms\n",
            "image 21/53 /content/drive/MyDrive/campushiring/piyush_gupta/data/test_pics/cody-lannom-A_lrABLgbhk-unsplash.jpg: 448x640 2 Roads, 7 Pedestrians, 15.7ms\n",
            "image 22/53 /content/drive/MyDrive/campushiring/piyush_gupta/data/test_pics/deidre-schlabs-i8HGNw3Uchg-unsplash.jpg: 640x480 1 Road, 1 TwoWheeler, 2 Pedestrians, 1 Vehicle, 16.0ms\n",
            "image 23/53 /content/drive/MyDrive/campushiring/piyush_gupta/data/test_pics/edoardo-cuoghi-yKZRs6RJZcQ-unsplash.jpg: 640x448 3 Pedestrians, 11.4ms\n",
            "image 24/53 /content/drive/MyDrive/campushiring/piyush_gupta/data/test_pics/eugene-production-6bDTjA1vx_s-unsplash.jpg: 640x448 1 Road, 4 Pedestrians, 2 Vehicles, 7.5ms\n",
            "image 25/53 /content/drive/MyDrive/campushiring/piyush_gupta/data/test_pics/gunnar-madlung-yUXvkeZStLo-unsplash.jpg: 448x640 1 Road, 1 Pedestrian, 8.3ms\n",
            "image 26/53 /content/drive/MyDrive/campushiring/piyush_gupta/data/test_pics/harry-bradrocco-mWufcNetshA-unsplash.jpg: 448x640 2 TwoWheelers, 10 Pedestrians, 1 Vehicle, 7.5ms\n",
            "image 27/53 /content/drive/MyDrive/campushiring/piyush_gupta/data/test_pics/jack-white--DlsLQXm9Ko-unsplash.jpg: 448x640 2 Roads, 2 Pedestrians, 2 Vehicles, 7.4ms\n",
            "image 28/53 /content/drive/MyDrive/campushiring/piyush_gupta/data/test_pics/jan-antonin-kolar-hN_zCni3ILg-unsplash.jpg: 640x480 2 Roads, 41 Pedestrians, 8.3ms\n",
            "image 29/53 /content/drive/MyDrive/campushiring/piyush_gupta/data/test_pics/jiangxulei1990-feX-KFWRR5o-unsplash.jpg: 448x640 1 Road, 1 Pedestrian, 8.3ms\n",
            "image 30/53 /content/drive/MyDrive/campushiring/piyush_gupta/data/test_pics/jj-ying-0MTCB86mGvw-unsplash (1).jpg: 448x640 14 Pedestrians, 7.4ms\n",
            "image 31/53 /content/drive/MyDrive/campushiring/piyush_gupta/data/test_pics/jj-ying-0MTCB86mGvw-unsplash.jpg: 448x640 14 Pedestrians, 7.4ms\n",
            "image 32/53 /content/drive/MyDrive/campushiring/piyush_gupta/data/test_pics/johan-milson-kamaong-gRWt1GFhwcA-unsplash.jpg: 288x640 1 Road, 1 TwoWheeler, 1 Pedestrian, 8.7ms\n",
            "image 33/53 /content/drive/MyDrive/campushiring/piyush_gupta/data/test_pics/joshua-tsu-IG2PDC-Uxe4-unsplash.jpg: 640x448 1 Road, 1 TwoWheeler, 4 Pedestrians, 2 Vehicles, 8.2ms\n",
            "image 34/53 /content/drive/MyDrive/campushiring/piyush_gupta/data/test_pics/kristaps-solims-M5yeGa84bFw-unsplash.jpg: 640x448 3 Roads, 2 Pedestrians, 2 Vehicles, 7.5ms\n",
            "image 35/53 /content/drive/MyDrive/campushiring/piyush_gupta/data/test_pics/lerone-pieters-6OOU-VK2bhU-unsplash.jpg: 640x448 2 Pedestrians, 2 Vehicles, 7.5ms\n",
            "image 36/53 /content/drive/MyDrive/campushiring/piyush_gupta/data/test_pics/lisa-van-vliet-4mrsagqwlQU-unsplash.jpg: 640x512 2 Roads, 8 Pedestrians, 1 Vehicle, 8.6ms\n",
            "image 37/53 /content/drive/MyDrive/campushiring/piyush_gupta/data/test_pics/lovro-pavlicic-gLMiAkh8NKE-unsplash.jpg: 640x448 1 Road, 2 Pedestrians, 1 Vehicle, 8.3ms\n",
            "image 38/53 /content/drive/MyDrive/campushiring/piyush_gupta/data/test_pics/marek-lumi-klZ4YTOODkk-unsplash.jpg: 384x640 1 Road, 1 Pedestrian, 2 Vehicles, 8.1ms\n",
            "image 39/53 /content/drive/MyDrive/campushiring/piyush_gupta/data/test_pics/maria-sime-hgqnINAG4N8-unsplash.jpg: 640x448 2 Roads, 1 TwoWheeler, 2 Pedestrians, 8.2ms\n",
            "image 40/53 /content/drive/MyDrive/campushiring/piyush_gupta/data/test_pics/maria-wang-48EJr5oz5OE-unsplash.jpg: 384x640 2 Pedestrians, 8.0ms\n",
            "image 41/53 /content/drive/MyDrive/campushiring/piyush_gupta/data/test_pics/marianna-ole-GV63O5yANak-unsplash.jpg: 448x640 1 Pedestrian, 8.1ms\n",
            "image 42/53 /content/drive/MyDrive/campushiring/piyush_gupta/data/test_pics/mathias-reding-4PVn-BYqoI8-unsplash.jpg: 640x448 3 Roads, 2 TwoWheelers, 1 Pedestrian, 2 Vehicles, 8.3ms\n",
            "image 43/53 /content/drive/MyDrive/campushiring/piyush_gupta/data/test_pics/matthias-leistikow-AajXGDRc5bY-unsplash.jpg: 640x512 1 Road, 1 Pedestrian, 9.7ms\n",
            "image 44/53 /content/drive/MyDrive/campushiring/piyush_gupta/data/test_pics/maxwell-ridgeway-jgmeGFg-3d4-unsplash.jpg: 480x640 2 Roads, 1 TwoWheeler, 6 Pedestrians, 12.4ms\n",
            "image 45/53 /content/drive/MyDrive/campushiring/piyush_gupta/data/test_pics/qeis-ismail-dU22rIU1ffg-unsplash.jpg: 640x448 1 Road, 1 TwoWheeler, 9 Pedestrians, 9.7ms\n",
            "image 46/53 /content/drive/MyDrive/campushiring/piyush_gupta/data/test_pics/ramy-kabalan-8kavAHEDiPI-unsplash.jpg: 640x512 1 Road, 6 Pedestrians, 11.9ms\n",
            "image 47/53 /content/drive/MyDrive/campushiring/piyush_gupta/data/test_pics/raymond-okoro-9C9ZSk9bmsw-unsplash.jpg: 448x640 1 Road, 7 Pedestrians, 8.7ms\n",
            "image 48/53 /content/drive/MyDrive/campushiring/piyush_gupta/data/test_pics/robert-tjalondo-Fzr-DIuWmFk-unsplash.jpg: 448x640 1 Road, 1 TwoWheeler, 12 Pedestrians, 3 Vehicles, 7.6ms\n",
            "image 49/53 /content/drive/MyDrive/campushiring/piyush_gupta/data/test_pics/sami-ullah-S_7qr5eRgXY-unsplash.jpg: 640x448 3 Pedestrians, 8.2ms\n",
            "image 50/53 /content/drive/MyDrive/campushiring/piyush_gupta/data/test_pics/sharad-kandoi-RaqzFHMuf_8-unsplash.jpg: 448x640 1 Road, 2 TwoWheelers, 2 Pedestrians, 4 Vehicles, 8.1ms\n",
            "image 51/53 /content/drive/MyDrive/campushiring/piyush_gupta/data/test_pics/szymon-shields-QPxpD1ApHL8-unsplash.jpg: 640x448 1 Road, 1 TwoWheeler, 1 Pedestrian, 2 Vehicles, 8.2ms\n",
            "image 52/53 /content/drive/MyDrive/campushiring/piyush_gupta/data/test_pics/timo-wielink-HuSTK1Mjqqk-unsplash.jpg: 640x448 1 Road, 1 Pedestrian, 3 Vehicles, 7.5ms\n",
            "image 53/53 /content/drive/MyDrive/campushiring/piyush_gupta/data/test_pics/tolu-akinyemi-H7iMLxLr5Uc-unsplash.jpg: 448x640 2 Roads, 2 Vehicles, 8.2ms\n",
            "Speed: 3.5ms preprocess, 8.9ms inference, 5.3ms postprocess per image at shape (1, 3, 448, 640)\n",
            "Results saved to \u001b[1m/content/drive/MyDrive/campushiring/piyush_gupta/src/test_predictions/predictions\u001b[0m\n",
            "53 labels saved to /content/drive/MyDrive/campushiring/piyush_gupta/src/test_predictions/predictions/labels\n",
            "Inference done. Check the folder 'test_predictions' for results.\n"
          ]
        }
      ],
      "source": [
        "from ultralytics import YOLO\n",
        "import os\n",
        "\n",
        "\n",
        "# Path to trained model\n",
        "model_path = \"/content/drive/MyDrive/campushiring/piyush_gupta/src/runs/yolo-seg-finetune/weights/best.pt\"\n",
        "model = YOLO(model_path)\n",
        "\n",
        "# Path to test images\n",
        "test_images_dir = \"/content/drive/MyDrive/campushiring/piyush_gupta/data/test_pics\"\n",
        "\n",
        "# Run inference\n",
        "results = model.predict(\n",
        "    source=test_images_dir,   # folder or single image\n",
        "    imgsz=640,\n",
        "    conf=0.25,\n",
        "    save_txt=True,# confidence threshold\n",
        "    save=True,\n",
        "    project=\"/content/drive/MyDrive/campushiring/piyush_gupta/src/test_predictions\",\n",
        "    name=\"predictions\",\n",
        "    exist_ok=True\n",
        ")\n",
        "\n",
        "print(\"Inference done. Check the folder 'test_predictions' for results.\")\n"
      ]
    },
    {
      "cell_type": "code",
      "execution_count": null,
      "metadata": {
        "id": "Trwl53kfruC1"
      },
      "outputs": [],
      "source": [
        "import os\n",
        "import json\n",
        "\n",
        "yolo_dir = \"/content/drive/MyDrive/campushiring/piyush_gupta/src/test_predictions/predictions/labels\"\n",
        "json_dir = \"/content/drive/MyDrive/campushiring/piyush_gupta/src/test_predictions/json_annotations\"\n",
        "os.makedirs(json_dir, exist_ok=True)\n",
        "\n",
        "for txt_file in os.listdir(yolo_dir):\n",
        "    if txt_file.endswith(\".txt\"):\n",
        "        annotations = []\n",
        "        with open(os.path.join(yolo_dir, txt_file)) as f:\n",
        "            for line in f.readlines():\n",
        "                parts = line.strip().split()\n",
        "                if len(parts) < 5:\n",
        "                    continue  # skip invalid lines\n",
        "                cls, x_center, y_center, w, h = map(float, parts[:5])\n",
        "                annotations.append({\n",
        "                    \"class\": int(cls),\n",
        "                    \"bbox\": [x_center, y_center, w, h]\n",
        "                })\n",
        "        json_file = txt_file.replace(\".txt\", \".json\")\n",
        "        with open(os.path.join(json_dir, json_file), \"w\") as jf:\n",
        "            json.dump(annotations, jf)\n"
      ]
    },
    {
      "cell_type": "code",
      "execution_count": null,
      "metadata": {
        "colab": {
          "base_uri": "https://localhost:8080/"
        },
        "id": "JFGCU6v1lDzx",
        "outputId": "ec663b2a-6bac-47e8-d1f6-493c81052962"
      },
      "outputs": [
        {
          "name": "stdout",
          "output_type": "stream",
          "text": [
            "Collecting https://github.com/tensormatics/SDKPython/releases/download/prod/labellerr_sdk-1.0.0.tar.gz\n",
            "  Downloading https://github.com/tensormatics/SDKPython/releases/download/prod/labellerr_sdk-1.0.0.tar.gz (18 kB)\n",
            "  Preparing metadata (setup.py) ... \u001b[?25l\u001b[?25hdone\n",
            "Requirement already satisfied: requests in /usr/local/lib/python3.12/dist-packages (from labellerr_sdk==1.0.0) (2.32.4)\n",
            "Collecting unique_names_generator (from labellerr_sdk==1.0.0)\n",
            "  Downloading unique_names_generator-1.0.2-py2.py3-none-any.whl.metadata (2.7 kB)\n",
            "Requirement already satisfied: charset_normalizer<4,>=2 in /usr/local/lib/python3.12/dist-packages (from requests->labellerr_sdk==1.0.0) (3.4.3)\n",
            "Requirement already satisfied: idna<4,>=2.5 in /usr/local/lib/python3.12/dist-packages (from requests->labellerr_sdk==1.0.0) (3.10)\n",
            "Requirement already satisfied: urllib3<3,>=1.21.1 in /usr/local/lib/python3.12/dist-packages (from requests->labellerr_sdk==1.0.0) (2.5.0)\n",
            "Requirement already satisfied: certifi>=2017.4.17 in /usr/local/lib/python3.12/dist-packages (from requests->labellerr_sdk==1.0.0) (2025.8.3)\n",
            "Downloading unique_names_generator-1.0.2-py2.py3-none-any.whl (27 kB)\n",
            "Building wheels for collected packages: labellerr_sdk\n",
            "  Building wheel for labellerr_sdk (setup.py) ... \u001b[?25l\u001b[?25hdone\n",
            "  Created wheel for labellerr_sdk: filename=labellerr_sdk-1.0.0-py3-none-any.whl size=15645 sha256=9bc434ef23a33df9cbaceab8e054fb0b25f6e4caae9780972115ab185584fd5a\n",
            "  Stored in directory: /root/.cache/pip/wheels/54/98/af/0958eeb14c4b940bf2dd0b21614eeae86c73c0f536ae59dc1d\n",
            "Successfully built labellerr_sdk\n",
            "Installing collected packages: unique_names_generator, labellerr_sdk\n",
            "Successfully installed labellerr_sdk-1.0.0 unique_names_generator-1.0.2\n"
          ]
        }
      ],
      "source": [
        "pip install https://github.com/tensormatics/SDKPython/releases/download/prod/labellerr_sdk-1.0.0.tar.gz"
      ]
    },
    {
      "cell_type": "code",
      "execution_count": null,
      "metadata": {
        "colab": {
          "base_uri": "https://localhost:8080/",
          "height": 393
        },
        "id": "Y5LvYkddigD9",
        "outputId": "2118881b-6ba5-4b9a-d746-82a78b675a99"
      },
      "outputs": [
        {
          "ename": "ImportError",
          "evalue": "cannot import name 'Labellerr' from 'labellerr' (/usr/local/lib/python3.12/dist-packages/labellerr/__init__.py)",
          "output_type": "error",
          "traceback": [
            "\u001b[0;31m---------------------------------------------------------------------------\u001b[0m",
            "\u001b[0;31mImportError\u001b[0m                               Traceback (most recent call last)",
            "\u001b[0;32m/tmp/ipython-input-2239879691.py\u001b[0m in \u001b[0;36m<cell line: 0>\u001b[0;34m()\u001b[0m\n\u001b[0;32m----> 1\u001b[0;31m \u001b[0;32mfrom\u001b[0m \u001b[0mlabellerr\u001b[0m \u001b[0;32mimport\u001b[0m \u001b[0mLabellerr\u001b[0m\u001b[0;34m\u001b[0m\u001b[0;34m\u001b[0m\u001b[0m\n\u001b[0m\u001b[1;32m      2\u001b[0m \u001b[0;34m\u001b[0m\u001b[0m\n\u001b[1;32m      3\u001b[0m \u001b[0;31m# Initialize SDK\u001b[0m\u001b[0;34m\u001b[0m\u001b[0;34m\u001b[0m\u001b[0m\n\u001b[1;32m      4\u001b[0m \u001b[0mclient\u001b[0m \u001b[0;34m=\u001b[0m \u001b[0mLabellerr\u001b[0m\u001b[0;34m(\u001b[0m\u001b[0mapi_key\u001b[0m\u001b[0;34m=\u001b[0m\u001b[0;34m\"391f8b.d4517c48bcaf098c819e9736ba\"\u001b[0m\u001b[0;34m)\u001b[0m  \u001b[0;31m# replace with your API key\u001b[0m\u001b[0;34m\u001b[0m\u001b[0;34m\u001b[0m\u001b[0m\n\u001b[1;32m      5\u001b[0m \u001b[0;34m\u001b[0m\u001b[0m\n",
            "\u001b[0;31mImportError\u001b[0m: cannot import name 'Labellerr' from 'labellerr' (/usr/local/lib/python3.12/dist-packages/labellerr/__init__.py)",
            "",
            "\u001b[0;31m---------------------------------------------------------------------------\u001b[0;32m\nNOTE: If your import is failing due to a missing package, you can\nmanually install dependencies using either !pip or !apt.\n\nTo view examples of installing some common dependencies, click the\n\"Open Examples\" button below.\n\u001b[0;31m---------------------------------------------------------------------------\u001b[0m\n"
          ]
        }
      ],
      "source": [
        "from labellerr.client import LabellerrClient\n",
        "from labellerr.exceptions import LabellerrError\n",
        "\n",
        "# Initialize the client with your API credentials\n",
        "client = LabellerrClient('101883.3524114e9e916a23a954a97233', '2e284601db9353a7d97e6e0b0a304c92429350a66ae34b5ba6d03168bcfa8e5d')\n",
        "project_id = \"laney_diplomatic_badger_25552\"\n",
        "client_id = ''\n",
        "annotation_format = 'json'\n",
        "annotation_file = '/path/to/annotations.json'\n",
        "\n",
        "try:\n",
        "    # Upload and wait for processing to complete\n",
        "    result = client.upload_preannotation_by_project_id(project_id, client_id, annotation_format, annotation_file)\n",
        "    # Check the final status\n",
        "    if result['response']['status'] == 'completed':\n",
        "        print(\"Pre-annotations processed successfully\")\n",
        "        # Access additional metadata if needed\n",
        "        metadata = result['response'].get('metadata', {})\n",
        "        print(\"metadata\",metadata)\n",
        "except LabellerrError as e:\n",
        "    print(f\"Pre-annotation upload failed: {str(e)}\")"
      ]
    }
  ],
  "metadata": {
    "colab": {
      "provenance": []
    },
    "kernelspec": {
      "display_name": "Python 3",
      "name": "python3"
    },
    "language_info": {
      "name": "python"
    }
  },
  "nbformat": 4,
  "nbformat_minor": 0
}
